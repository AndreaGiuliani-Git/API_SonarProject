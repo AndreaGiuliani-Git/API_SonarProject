{
 "cells": [
  {
   "cell_type": "code",
   "execution_count": null,
   "id": "blocked-taxation",
   "metadata": {},
   "outputs": [],
   "source": [
    "#Analyze standard security mail and tcp ports 21, 22 and 23 of one host in the network.\n",
    "import protocols.tcp.tcp as tcp_module\n",
    "import protocols.fdns.type_txt.standard.dkim as dkim_module\n",
    "import protocols.fdns.type_txt.standard.dmarc as dmarc_module\n",
    "import protocols.fdns.type_txt.standard.sts as sts_module\n",
    "import protocols.fdns.type_txt.standard.spf as spf_module\n",
    "import protocols.fdns.type_a.a as a_module\n",
    "\n",
    "\n",
    "#Create necessary dataframe.\n",
    "df_a = a_module.get_df_a('./data/project_sonar/2021-04-23-1619136719-fdns_a.json.gz')\n",
    "df_ssh = tcp_module.get_df_tcp('./data/project_sonar/2021-04-29-1619726956-ssh_22.csv.gz')\n",
    "df_telnet = tcp_module.get_df_tcp('./data/project_sonar/2021-04-30-1619776121-telnet_23.csv.gz')\n",
    "df_ftp = tcp_module.get_df_tcp('./data/project_sonar/2021-04-07-1617768240-ftp_21.csv.gz')\n",
    "df_dkim = dkim_module.get_df_dkim('./data/project_sonar2021-04-23-1619217645-fdns_txt.json.gz')\n",
    "df_dmarc = dmarc_module.get_df_dmarc('./Project_Sonar_analysis/data/project_sonar/2021-04-23-1619217645-fdns_txt.json.gz')\n",
    "df_sts = sts_module.get_df_sts('./Project_Sonar_analysis/data/project_sonar/2021-04-23-1619217645-fdns_txt.json.gz')\n",
    "df_spf = spf_module.get_df_spf('./Project_Sonar_analysis/data/project_sonar/2021-04-23-1619217645-fdns_txt.json.gz')\n",
    "\n",
    "#The hostname to search.\n",
    "hostname = ''\n",
    "\n",
    "#Find hostname in the A-dataframe.\n",
    "df_a_filtered = a_module.fdns_module.get_df_hostname_specified(df_a, hostname)\n",
    "\n",
    "#Find ip-address in all TCP-dataframes. \n",
    "ip_address = df_a_filtered['Ip']\n",
    "df_ssh_filtered = tcp_module.get_df_ip_selected(df_ssh, 'S_address', ip_address, 0)\n",
    "df_telnet_filtered = tcp_module.get_df_ip_selected(df_telnet, 'S_address', ip_address, 0)\n",
    "df_ftp_filtered = tcp_module.get_df_ip_selected(df_ftp, 'S_address', ip_address, 0)\n",
    "\n",
    "\n",
    "#Find hostname in the TXT-dataframe.\n",
    "df_dkim_filtered = dkim_module.txt_module.fdns_module.get_df_hostname_specified(df_dkim, hostname)\n",
    "df_dmarc_filtered = dmarc_module.txt_module.fdns_module.get_df_hostname_specified(df_dmarc, hostname)\n",
    "df_sts_filtered = sts_module.txt_module.fdns_module.get_df_hostname_specified(df_sts, hostname)\n",
    "df_spf_filtered = spf_module.txt_module.fdns_module.get_df_hostname_specified(df_spf, hostname)\n",
    "\n",
    "\n",
    "#Output dataframe\n",
    "display(df_ssh_filtered)\n",
    "display(df_telnet_filtered)\n",
    "display(df_ftp_filtered)\n",
    "display(df_dkim_filtered)\n",
    "display(df_dmarc_filtered)\n",
    "display(df_sts_filtered)\n",
    "display(df_spf_filtered)\n"
   ]
  },
  {
   "cell_type": "code",
   "execution_count": null,
   "id": "terminal-howard",
   "metadata": {},
   "outputs": [],
   "source": []
  },
  {
   "cell_type": "code",
   "execution_count": null,
   "id": "e908114e",
   "metadata": {},
   "outputs": [],
   "source": []
  }
 ],
 "metadata": {
  "kernelspec": {
   "display_name": "Python 3",
   "language": "python",
   "name": "python3"
  },
  "language_info": {
   "codemirror_mode": {
    "name": "ipython",
    "version": 3
   },
   "file_extension": ".py",
   "mimetype": "text/x-python",
   "name": "python",
   "nbconvert_exporter": "python",
   "pygments_lexer": "ipython3",
   "version": "3.9.5"
  }
 },
 "nbformat": 4,
 "nbformat_minor": 5
}
