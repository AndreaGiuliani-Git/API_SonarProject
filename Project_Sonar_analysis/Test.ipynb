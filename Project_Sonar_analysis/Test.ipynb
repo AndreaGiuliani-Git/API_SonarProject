{
 "cells": [
  {
   "cell_type": "code",
   "execution_count": null,
   "id": "d05073c5",
   "metadata": {
    "scrolled": true
   },
   "outputs": [],
   "source": [
    "#Analyze standard security mail and tcp ports 21, 22 and 23 of one host in the network.\n",
    "import protocols.tcp.tcp as tcp_module\n",
    "import protocols.fdns.type_txt.standard.dkim as dkim_module\n",
    "import protocols.fdns.type_txt.standard.dmarc as dmarc_module\n",
    "import protocols.fdns.type_txt.standard.sts as sts_module\n",
    "import protocols.fdns.type_txt.standard.spf as spf_module\n",
    "import protocols.fdns.type_a.a as a_module\n",
    "\n",
    "\n",
    "#Create necessary dataframe.\n",
    "\n",
    "df_dkim = dkim_module.get_df_dkim('./data/project_sonar/2021-04-23-1619217645-fdns_txt.json.gz')\n",
    "df_dkim.head(20)\n",
    "\n",
    "#dask libreria\n"
   ]
  },
  {
   "cell_type": "code",
   "execution_count": null,
   "id": "c5f42d59",
   "metadata": {},
   "outputs": [],
   "source": []
  }
 ],
 "metadata": {
  "kernelspec": {
   "display_name": "Python 3",
   "language": "python",
   "name": "python3"
  },
  "language_info": {
   "codemirror_mode": {
    "name": "ipython",
    "version": 3
   },
   "file_extension": ".py",
   "mimetype": "text/x-python",
   "name": "python",
   "nbconvert_exporter": "python",
   "pygments_lexer": "ipython3",
   "version": "3.9.5"
  }
 },
 "nbformat": 4,
 "nbformat_minor": 5
}
